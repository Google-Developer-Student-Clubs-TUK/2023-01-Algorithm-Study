{
 "cells": [
  {
   "cell_type": "markdown",
   "id": "ce06a419",
   "metadata": {},
   "source": [
    "# 4153번 - 직각삼각형 \n",
    "## 문제\n",
    "과거 이집트인들은 각 변들의 길이가 3, 4, 5인 삼각형이 직각 삼각형인것을 알아냈다. 주어진 세변의 길이로 삼각형이 직각인지 아닌지 구분하시오.\n",
    "\n",
    "## 입력\n",
    "입력은 여러개의 테스트케이스로 주어지며 마지막줄에는 0 0 0이 입력된다. 각 테스트케이스는 모두 30,000보다 작은 양의 정수로 주어지며, 각 입력은 변의 길이를 의미한다.\n",
    "\n",
    "## 출력\n",
    "각 입력에 대해 직각 삼각형이 맞다면 \"right\", 아니라면 \"wrong\"을 출력한다.\n",
    "\n",
    "https://www.acmicpc.net/problem/4153"
   ]
  },
  {
   "cell_type": "markdown",
   "id": "c29eedd7",
   "metadata": {},
   "source": [
    "like 3명 가위바위보 - 두번 비교해서 가장 큰 수를 찾아낸다 "
   ]
  },
  {
   "cell_type": "code",
   "execution_count": 3,
   "id": "f5d2cc17",
   "metadata": {},
   "outputs": [
    {
     "name": "stdout",
     "output_type": "stream",
     "text": [
      "3 4 5\n",
      "right\n",
      "3\n"
     ]
    },
    {
     "ename": "ValueError",
     "evalue": "not enough values to unpack (expected 3, got 1)",
     "output_type": "error",
     "traceback": [
      "\u001b[1;31m---------------------------------------------------------------------------\u001b[0m",
      "\u001b[1;31mValueError\u001b[0m                                Traceback (most recent call last)",
      "Input \u001b[1;32mIn [3]\u001b[0m, in \u001b[0;36m<cell line: 13>\u001b[1;34m()\u001b[0m\n\u001b[0;32m     10\u001b[0m         \u001b[38;5;28mprint\u001b[39m(\u001b[38;5;124m\"\u001b[39m\u001b[38;5;124mwrong\u001b[39m\u001b[38;5;124m\"\u001b[39m)\n\u001b[0;32m     13\u001b[0m \u001b[38;5;28;01mwhile\u001b[39;00m(a\u001b[38;5;241m!=\u001b[39m\u001b[38;5;241m0\u001b[39m \u001b[38;5;129;01mand\u001b[39;00m b\u001b[38;5;241m!=\u001b[39m\u001b[38;5;241m0\u001b[39m \u001b[38;5;129;01mand\u001b[39;00m c\u001b[38;5;241m!=\u001b[39m\u001b[38;5;241m0\u001b[39m):\n\u001b[1;32m---> 14\u001b[0m     a, b, c \u001b[38;5;241m=\u001b[39m \u001b[38;5;28mmap\u001b[39m(\u001b[38;5;28mint\u001b[39m, \u001b[38;5;28minput\u001b[39m()\u001b[38;5;241m.\u001b[39msplit())\n\u001b[0;32m     16\u001b[0m     \u001b[38;5;28;01mif\u001b[39;00m (a\u001b[38;5;241m==\u001b[39m\u001b[38;5;241m0\u001b[39m \u001b[38;5;129;01mand\u001b[39;00m b\u001b[38;5;241m==\u001b[39m\u001b[38;5;241m0\u001b[39m \u001b[38;5;129;01mand\u001b[39;00m c\u001b[38;5;241m==\u001b[39m\u001b[38;5;241m0\u001b[39m):\n\u001b[0;32m     17\u001b[0m         \u001b[38;5;28;01mbreak\u001b[39;00m \n",
      "\u001b[1;31mValueError\u001b[0m: not enough values to unpack (expected 3, got 1)"
     ]
    }
   ],
   "source": [
    "a = 1 \n",
    "b = 1\n",
    "c = 1\n",
    "\n",
    "def sqr(i,j,k):\n",
    "    cul = i**2 == (j**2 + k**2)\n",
    "    if(cul):\n",
    "        print(\"right\")\n",
    "    else:\n",
    "        print(\"wrong\")\n",
    "        \n",
    "\n",
    "while(a!=0 and b!=0 and c!=0):\n",
    "    a, b, c = map(int, input().split())\n",
    "    \n",
    "    if (a==0 and b==0 and c==0):\n",
    "        break \n",
    "    \n",
    "    if(a>b):\n",
    "        if(a>c):\n",
    "            sqr(a,b,c)\n",
    "        else:\n",
    "            sqr(c,a,b)\n",
    "    else:\n",
    "        if(b>c):\n",
    "            sqr(b,a,c)\n",
    "        else:\n",
    "            sqr(c,a,b)\n",
    "            "
   ]
  }
 ],
 "metadata": {
  "kernelspec": {
   "display_name": "Python 3 (ipykernel)",
   "language": "python",
   "name": "python3"
  },
  "language_info": {
   "codemirror_mode": {
    "name": "ipython",
    "version": 3
   },
   "file_extension": ".py",
   "mimetype": "text/x-python",
   "name": "python",
   "nbconvert_exporter": "python",
   "pygments_lexer": "ipython3",
   "version": "3.9.12"
  }
 },
 "nbformat": 4,
 "nbformat_minor": 5
}
