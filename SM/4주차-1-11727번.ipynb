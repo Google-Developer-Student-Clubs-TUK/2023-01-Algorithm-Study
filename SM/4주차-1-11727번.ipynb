{
 "cells": [
  {
   "cell_type": "markdown",
   "id": "e6b33dfc",
   "metadata": {},
   "source": [
    "# 11717번 - 2 x n 타일링 2 \n",
    "\n",
    "## 문제\n",
    "2×n 직사각형을 1×2, 2×1과 2×2 타일로 채우는 방법의 수를 구하는 프로그램을 작성하시오.\n",
    "\n",
    "## 입력\n",
    "첫째 줄에 n이 주어진다. (1 ≤ n ≤ 1,000)\n",
    "\n",
    "## 출력\n",
    "첫째 줄에 2×n 크기의 직사각형을 채우는 방법의 수를 10,007로 나눈 나머지를 출력한다.\n",
    "\n",
    "https://www.acmicpc.net/problem/11727\n",
    "\n",
    "#다이나믹 프로그래밍"
   ]
  },
  {
   "cell_type": "code",
   "execution_count": 6,
   "id": "aeaea9de",
   "metadata": {},
   "outputs": [
    {
     "name": "stdout",
     "output_type": "stream",
     "text": [
      "900\n",
      "1472\n"
     ]
    }
   ],
   "source": [
    "a = int(input())\n",
    "\n",
    "t = [0] * 1001 # 인덱스 1번부터 1000번까지 사용하기 위해 1001개로 이루어진 배열 생성 \n",
    "t[1] = 1         # n=1: 1\n",
    "t[2] = 3         # n=2: 3\n",
    "\n",
    "for i in range(3, a+1):        #n=3부터는 이전의 값을 이용하여 구한다 \n",
    "    t[i] = (t[i-1] + t[i-2] * 2) \n",
    " \n",
    "print(t[a]% 10007)               # 출력 조건: 10007로 나눈 나머지 출력 "
   ]
  }
 ],
 "metadata": {
  "kernelspec": {
   "display_name": "Python 3 (ipykernel)",
   "language": "python",
   "name": "python3"
  },
  "language_info": {
   "codemirror_mode": {
    "name": "ipython",
    "version": 3
   },
   "file_extension": ".py",
   "mimetype": "text/x-python",
   "name": "python",
   "nbconvert_exporter": "python",
   "pygments_lexer": "ipython3",
   "version": "3.9.12"
  }
 },
 "nbformat": 4,
 "nbformat_minor": 5
}
