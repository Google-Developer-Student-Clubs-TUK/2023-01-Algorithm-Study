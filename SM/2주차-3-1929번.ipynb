{
 "cells": [
  {
   "cell_type": "markdown",
   "id": "7fc36dd1",
   "metadata": {},
   "source": [
    "# 1929번 - 소수 구하기\n",
    "\n",
    "## 문제\n",
    "M이상 N이하의 소수를 모두 출력하는 프로그램을 작성하시오.\n",
    "\n",
    "## 입력\n",
    "첫째 줄에 자연수 M과 N이 빈 칸을 사이에 두고 주어진다. (1 ≤ M ≤ N ≤ 1,000,000) M이상 N이하의 소수가 하나 이상 있는 입력만 주어진다.\n",
    "\n",
    "## 출력\n",
    "한 줄에 하나씩, 증가하는 순서대로 소수를 출력한다.\n",
    "\n",
    "https://www.acmicpc.net/problem/1929"
   ]
  },
  {
   "cell_type": "markdown",
   "id": "a6bdc665",
   "metadata": {},
   "source": [
    "소수 판별법 - how to?  에라토스테네스의 체 https://ko.wikipedia.org/wiki/%EC%97%90%EB%9D%BC%ED%86%A0%EC%8A%A4%ED%85%8C%EB%84%A4%EC%8A%A4%EC%9D%98_%EC%B2%B4"
   ]
  },
  {
   "cell_type": "code",
   "execution_count": 16,
   "id": "ca8b8b20",
   "metadata": {},
   "outputs": [
    {
     "name": "stdout",
     "output_type": "stream",
     "text": [
      "5 30\n",
      "5\n",
      "7\n",
      "11\n",
      "13\n",
      "17\n",
      "19\n",
      "23\n",
      "29\n"
     ]
    }
   ],
   "source": [
    "a, b = map(int, input().split())\n",
    "        \n",
    "for i in range(a,b+1):\n",
    "        \n",
    "    if i==1:#1은 소수가 아니므로 제외\n",
    "        continue\n",
    "            \n",
    "    for j in range(2,int(i**0.5)+1):\n",
    "            \n",
    "        if i%j==0: #약수가 존재하므로 소수가 아님\n",
    "            break   \n",
    "                \n",
    "    else:\n",
    "        print(i)"
   ]
  }
 ],
 "metadata": {
  "kernelspec": {
   "display_name": "Python 3 (ipykernel)",
   "language": "python",
   "name": "python3"
  },
  "language_info": {
   "codemirror_mode": {
    "name": "ipython",
    "version": 3
   },
   "file_extension": ".py",
   "mimetype": "text/x-python",
   "name": "python",
   "nbconvert_exporter": "python",
   "pygments_lexer": "ipython3",
   "version": "3.9.12"
  }
 },
 "nbformat": 4,
 "nbformat_minor": 5
}
